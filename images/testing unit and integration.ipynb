{
 "cells": [
  {
   "cell_type": "code",
   "execution_count": 2,
   "metadata": {},
   "outputs": [],
   "source": [
    "import cv2\n",
    "import numpy as np\n",
    "\n",
    "def preprocess_image(img):\n",
    "    gray = cv2.cvtColor(img, cv2.COLOR_BGR2GRAY)\n",
    "    resized = cv2.resize(gray, (28, 28))\n",
    "    normalized = resized / 255.0\n",
    "    reshaped = normalized.reshape(1, 28, 28, 1)\n",
    "    return reshaped\n"
   ]
  },
  {
   "cell_type": "code",
   "execution_count": 3,
   "metadata": {},
   "outputs": [
    {
     "name": "stderr",
     "output_type": "stream",
     "text": [
      "test_resize_and_normalize (__main__.TestPreprocessing.test_resize_and_normalize) ... ok\n",
      "\n",
      "----------------------------------------------------------------------\n",
      "Ran 1 test in 0.012s\n",
      "\n",
      "OK\n"
     ]
    },
    {
     "data": {
      "text/plain": [
       "<unittest.main.TestProgram at 0x201fa6cd690>"
      ]
     },
     "execution_count": 3,
     "metadata": {},
     "output_type": "execute_result"
    }
   ],
   "source": [
    "#unit testing\n",
    "import unittest\n",
    "\n",
    "class TestPreprocessing(unittest.TestCase):\n",
    "    def test_resize_and_normalize(self):\n",
    "        img = np.random.randint(0, 255, (100, 100, 3), dtype=np.uint8)  # Random image\n",
    "        result = preprocess_image(img)\n",
    "        \n",
    "        # Check shape\n",
    "        self.assertEqual(result.shape, (1, 28, 28, 1))\n",
    "        \n",
    "        # Check normalization range\n",
    "        self.assertTrue(np.max(result) <= 1.0)\n",
    "        self.assertTrue(np.min(result) >= 0.0)\n",
    "\n",
    "# Run the test\n",
    "unittest.main(argv=[''], verbosity=2, exit=False)\n"
   ]
  },
  {
   "cell_type": "code",
   "execution_count": null,
   "metadata": {},
   "outputs": [],
   "source": [
    "\n",
    "# integrationtesting\n",
    "def preprocess_image(image_path):\n",
    "    image = cv2.imread(image_path, cv2.IMREAD_GRAYSCALE)\n",
    "    if image is None:\n",
    "        raise FileNotFoundError(f\"Image not found or unreadable: {image_path}\")\n",
    "    image = cv2.resize(image, (28, 28))\n",
    "    image = image / 255.0\n",
    "    image = image.reshape(1, 28, 28, 1)\n",
    "    return image\n"
   ]
  },
  {
   "cell_type": "code",
   "execution_count": 11,
   "metadata": {},
   "outputs": [
    {
     "name": "stdout",
     "output_type": "stream",
     "text": [
      "Dummy digit saved at: C:/handwritten_digit_recognition/images\\0_digit.png\n"
     ]
    }
   ],
   "source": [
    "import os\n",
    "import cv2\n",
    "import numpy as np\n",
    "\n",
    "# Create folder if it doesn't exist\n",
    "save_path = \"C:/handwritten_digit_recognition/images\"\n",
    "os.makedirs(save_path, exist_ok=True)\n",
    "\n",
    "# Create a dummy image (28x28) with a digit-like shape\n",
    "dummy_digit = np.zeros((28, 28), dtype=np.uint8)\n",
    "cv2.putText(dummy_digit, '5', (5, 23), cv2.FONT_HERSHEY_SIMPLEX, 0.8, (255), 2, cv2.LINE_AA)\n",
    "\n",
    "# Save the image\n",
    "image_path = os.path.join(save_path, \"0_digit.png\")\n",
    "cv2.imwrite(image_path, dummy_digit)\n",
    "\n",
    "print(f\"Dummy digit saved at: {image_path}\")\n"
   ]
  },
  {
   "cell_type": "code",
   "execution_count": 12,
   "metadata": {},
   "outputs": [
    {
     "name": "stderr",
     "output_type": "stream",
     "text": [
      "test_preprocess_and_predict (__main__.TestIntegration.test_preprocess_and_predict) ... "
     ]
    },
    {
     "name": "stdout",
     "output_type": "stream",
     "text": [
      "\u001b[1m1/1\u001b[0m \u001b[32m━━━━━━━━━━━━━━━━━━━━\u001b[0m\u001b[37m\u001b[0m \u001b[1m0s\u001b[0m 142ms/step\n"
     ]
    },
    {
     "name": "stderr",
     "output_type": "stream",
     "text": [
      "FAIL\n",
      "test_resize_and_normalize (__main__.TestPreprocessing.test_resize_and_normalize) ... ERROR\n",
      "\n",
      "======================================================================\n",
      "ERROR: test_resize_and_normalize (__main__.TestPreprocessing.test_resize_and_normalize)\n",
      "----------------------------------------------------------------------\n",
      "Traceback (most recent call last):\n",
      "  File \"C:\\Users\\MUBEEN\\AppData\\Local\\Temp\\ipykernel_22464\\1772065798.py\", line 7, in test_resize_and_normalize\n",
      "    result = preprocess_image(img)\n",
      "             ^^^^^^^^^^^^^^^^^^^^^\n",
      "  File \"C:\\Users\\MUBEEN\\AppData\\Local\\Temp\\ipykernel_22464\\2336163465.py\", line 8, in preprocess_image\n",
      "    image = cv2.imread(image_path, cv2.IMREAD_GRAYSCALE)\n",
      "            ^^^^^^^^^^^^^^^^^^^^^^^^^^^^^^^^^^^^^^^^^^^^\n",
      "cv2.error: OpenCV(4.11.0) :-1: error: (-5:Bad argument) in function 'imread'\n",
      "> Overload resolution failed:\n",
      ">  - Expected 'filename' to be a str or path-like object\n",
      ">  - Expected 'filename' to be a str or path-like object\n",
      ">  - Expected 'filename' to be a str or path-like object\n",
      "\n",
      "\n",
      "======================================================================\n",
      "FAIL: test_preprocess_and_predict (__main__.TestIntegration.test_preprocess_and_predict)\n",
      "----------------------------------------------------------------------\n",
      "Traceback (most recent call last):\n",
      "  File \"C:\\Users\\MUBEEN\\AppData\\Local\\Temp\\ipykernel_22464\\2336163465.py\", line 24, in test_preprocess_and_predict\n",
      "    self.assertIsInstance(predicted_digit, int)\n",
      "AssertionError: 5 is not an instance of <class 'int'>\n",
      "\n",
      "----------------------------------------------------------------------\n",
      "Ran 2 tests in 0.595s\n",
      "\n",
      "FAILED (failures=1, errors=1)\n"
     ]
    },
    {
     "name": "stdout",
     "output_type": "stream",
     "text": [
      "Predicted digit: 5\n"
     ]
    },
    {
     "data": {
      "text/plain": [
       "<unittest.main.TestProgram at 0x201fa6e1210>"
      ]
     },
     "execution_count": 12,
     "metadata": {},
     "output_type": "execute_result"
    }
   ],
   "source": [
    "import unittest\n",
    "import cv2\n",
    "import numpy as np\n",
    "from tensorflow.keras.models import load_model\n",
    "\n",
    "# Your preprocess function\n",
    "def preprocess_image(image_path):\n",
    "    image = cv2.imread(image_path, cv2.IMREAD_GRAYSCALE)\n",
    "    if image is None:\n",
    "        raise FileNotFoundError(f\"Image not found: {image_path}\")\n",
    "    image = cv2.resize(image, (28, 28))\n",
    "    image = image / 255.0\n",
    "    image = image.reshape(1, 28, 28, 1)\n",
    "    return image\n",
    "\n",
    "class TestIntegration(unittest.TestCase):\n",
    "    def test_preprocess_and_predict(self):\n",
    "        model = load_model(\"model.keras\")  # Make sure this file exists\n",
    "        image_path = \"C:/handwritten_digit_recognition/images/0_digit.png\"\n",
    "        processed = preprocess_image(image_path)\n",
    "        prediction = model.predict(processed)\n",
    "        predicted_digit = np.argmax(prediction)\n",
    "        print(\"Predicted digit:\", predicted_digit)\n",
    "        self.assertIsInstance(predicted_digit, int)\n",
    "\n",
    "# Run tests\n",
    "unittest.main(argv=[''], verbosity=2, exit=False)\n"
   ]
  },
  {
   "cell_type": "code",
   "execution_count": 15,
   "metadata": {},
   "outputs": [],
   "source": [
    "def resize_and_normalize(image):\n",
    "    image = cv2.resize(image, (28, 28))\n",
    "    image = image.astype(\"float32\") / 255.0\n",
    "    image = np.reshape(image, (1, 28, 28, 1))\n",
    "    return image\n",
    "\n",
    "def load_and_preprocess_image(image_path):\n",
    "    image = cv2.imread(image_path, cv2.IMREAD_GRAYSCALE)\n",
    "    if image is None:\n",
    "        raise FileNotFoundError(f\"Image not found: {image_path}\")\n",
    "    return resize_and_normalize(image)\n"
   ]
  },
  {
   "cell_type": "code",
   "execution_count": 16,
   "metadata": {},
   "outputs": [
    {
     "name": "stderr",
     "output_type": "stream",
     "text": [
      "test_preprocess_and_predict (__main__.TestIntegration.test_preprocess_and_predict) ... "
     ]
    },
    {
     "name": "stdout",
     "output_type": "stream",
     "text": [
      "\u001b[1m1/1\u001b[0m \u001b[32m━━━━━━━━━━━━━━━━━━━━\u001b[0m\u001b[37m\u001b[0m \u001b[1m0s\u001b[0m 137ms/step\n"
     ]
    },
    {
     "name": "stderr",
     "output_type": "stream",
     "text": [
      "ok\n",
      "test_resize_and_normalize (__main__.TestPreprocessing.test_resize_and_normalize) ... ok\n",
      "\n",
      "----------------------------------------------------------------------\n",
      "Ran 2 tests in 0.431s\n",
      "\n",
      "OK\n"
     ]
    },
    {
     "name": "stdout",
     "output_type": "stream",
     "text": [
      "Predicted digit: 5\n"
     ]
    },
    {
     "data": {
      "text/plain": [
       "<unittest.main.TestProgram at 0x201b70dad90>"
      ]
     },
     "execution_count": 16,
     "metadata": {},
     "output_type": "execute_result"
    }
   ],
   "source": [
    "import unittest\n",
    "import numpy as np\n",
    "\n",
    "class TestPreprocessing(unittest.TestCase):\n",
    "    def test_resize_and_normalize(self):\n",
    "        dummy_image = np.ones((100, 100), dtype=np.uint8) * 255  # white image\n",
    "        result = resize_and_normalize(dummy_image)\n",
    "        self.assertEqual(result.shape, (1, 28, 28, 1))\n",
    "        self.assertTrue((result >= 0).all() and (result <= 1).all())\n",
    "\n",
    "unittest.main(argv=[''], verbosity=2, exit=False)\n"
   ]
  },
  {
   "cell_type": "code",
   "execution_count": 18,
   "metadata": {},
   "outputs": [
    {
     "name": "stderr",
     "output_type": "stream",
     "text": [
      "test_preprocess_and_predict (__main__.TestIntegration.test_preprocess_and_predict) ... "
     ]
    },
    {
     "name": "stdout",
     "output_type": "stream",
     "text": [
      "\u001b[1m1/1\u001b[0m \u001b[32m━━━━━━━━━━━━━━━━━━━━\u001b[0m\u001b[37m\u001b[0m \u001b[1m0s\u001b[0m 133ms/step\n"
     ]
    },
    {
     "name": "stderr",
     "output_type": "stream",
     "text": [
      "FAIL\n",
      "test_resize_and_normalize (__main__.TestPreprocessing.test_resize_and_normalize) ... ok\n",
      "\n",
      "======================================================================\n",
      "FAIL: test_preprocess_and_predict (__main__.TestIntegration.test_preprocess_and_predict)\n",
      "----------------------------------------------------------------------\n",
      "Traceback (most recent call last):\n",
      "  File \"C:\\Users\\MUBEEN\\AppData\\Local\\Temp\\ipykernel_22464\\931546339.py\", line 11, in test_preprocess_and_predict\n",
      "    self.assertIsInstance(predicted_digit, int)\n",
      "AssertionError: 5 is not an instance of <class 'int'>\n",
      "\n",
      "----------------------------------------------------------------------\n",
      "Ran 2 tests in 0.418s\n",
      "\n",
      "FAILED (failures=1)\n"
     ]
    },
    {
     "name": "stdout",
     "output_type": "stream",
     "text": [
      "Predicted digit: 5\n"
     ]
    },
    {
     "data": {
      "text/plain": [
       "<unittest.main.TestProgram at 0x201fa3390d0>"
      ]
     },
     "execution_count": 18,
     "metadata": {},
     "output_type": "execute_result"
    }
   ],
   "source": [
    "import unittest\n",
    "from keras.models import load_model\n",
    "\n",
    "class TestIntegration(unittest.TestCase):\n",
    "    def test_preprocess_and_predict(self):\n",
    "        model = load_model(\"model.keras\")  # Ensure this file exists\n",
    "        image = load_and_preprocess_image(\"C:/handwritten_digit_recognition/images/0_digit.png\")\n",
    "        prediction = model.predict(image)\n",
    "        predicted_digit = prediction.argmax()\n",
    "        print(f\"Predicted digit: {predicted_digit}\")\n",
    "        self.assertIsInstance(predicted_digit, int)\n",
    "\n",
    "unittest.main(argv=[''], verbosity=2, exit=False)\n"
   ]
  },
  {
   "cell_type": "code",
   "execution_count": 2,
   "metadata": {},
   "outputs": [
    {
     "data": {
      "image/png": "[encoded data removed]",
      "text/plain": [
       "<Figure size 1000x600 with 1 Axes>"
      ]
     },
     "metadata": {},
     "output_type": "display_data"
    }
   ],
   "source": [
    "import matplotlib.pyplot as plt\n",
    "\n",
    "# Data\n",
    "categories = [\n",
    "    \"Scope\",\n",
    "    \"Purpose\",\n",
    "    \"Tested Components\",\n",
    "    \"Example in Project\"\n",
    "]\n",
    "\n",
    "unit_testing = [\n",
    "    1,  # Narrow scope\n",
    "    1,  # Tests individual functions\n",
    "    1,  # Single function/module\n",
    "    1   # e.g., preprocess_image() works correctly\n",
    "]\n",
    "\n",
    "integration_testing = [\n",
    "    3,  # Broader scope\n",
    "    3,  # Tests combined behavior\n",
    "    3,  # Multiple modules working together\n",
    "    3   # e.g., webcam → preprocess → predict → GUI works correctly\n",
    "]\n",
    "\n",
    "x = range(len(categories))\n",
    "\n",
    "# Plotting\n",
    "bar_width = 0.35\n",
    "plt.figure(figsize=(10, 6))\n",
    "plt.bar(x, unit_testing, width=bar_width, label=\"Unit Testing\", color='skyblue')\n",
    "plt.bar([i + bar_width for i in x], integration_testing, width=bar_width, label=\"Integration Testing\", color='salmon')\n",
    "\n",
    "# Labels and titles\n",
    "plt.xlabel(\"Comparison Categories\")\n",
    "plt.ylabel(\"Testing Scope (1 = Narrow, 3 = Broad)\")\n",
    "plt.title(\"Unit Testing vs Integration Testing (Handwritten Digit Recognition Project)\")\n",
    "plt.xticks([i + bar_width/2 for i in x], categories, rotation=15)\n",
    "plt.legend()\n",
    "\n",
    "plt.tight_layout()\n",
    "plt.grid(True, axis='y', linestyle='--', alpha=0.6)\n",
    "plt.show()"
   ]
  },
  {
   "cell_type": "code",
   "execution_count": null,
   "metadata": {},
   "outputs": [],
   "source": []
  }
 ],
 "metadata": {
  "kernelspec": {
   "display_name": "Python 3",
   "language": "python",
   "name": "python3"
  },
  "language_info": {
   "codemirror_mode": {
    "name": "ipython",
    "version": 3
   },
   "file_extension": ".py",
   "mimetype": "text/x-python",
   "name": "python",
   "nbconvert_exporter": "python",
   "pygments_lexer": "ipython3",
   "version": "3.11.0"
  }
 },
 "nbformat": 4,
 "nbformat_minor": 2
}
