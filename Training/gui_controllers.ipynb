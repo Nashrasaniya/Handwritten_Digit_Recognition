{
 "cells": [
  {
   "cell_type": "code",
   "execution_count": null,
   "metadata": {},
   "outputs": [],
   "source": [
    "import cv2\n",
    "\n",
    "startInference = False\n",
    "\n",
    "def ifClicked(event, x, y, flags, params):\n",
    "    \"\"\"Handles mouse click to toggle inference mode.\"\"\"\n",
    "    global startInference\n",
    "    if event == cv2.EVENT_LBUTTONDOWN:\n",
    "        startInference = not startInference\n",
    "\n",
    "threshold = 100\n",
    "\n",
    "def on_threshold(x):\n",
    "    \"\"\"Handles threshold slider.\"\"\"\n",
    "    global threshold\n",
    "    threshold = x\n",
    "\n",
    "if __name__ == \"__main__\":\n",
    "    cv2.namedWindow('Test Window')\n",
    "    cv2.setMouseCallback('Test Window', ifClicked)\n",
    "    cv2.createTrackbar('Threshold', 'Test Window', 100, 255, on_threshold)\n",
    "    print(\"GUI test running... Press any key to exit.\")\n",
    "    cv2.waitKey(0)\n",
    "    cv2.destroyAllWindows()\n"
   ]
  }
 ],
 "metadata": {
  "kernelspec": {
   "display_name": "Python 3",
   "language": "python",
   "name": "python3"
  },
  "language_info": {
   "codemirror_mode": {
    "name": "ipython",
    "version": 3
   },
   "file_extension": ".py",
   "mimetype": "text/x-python",
   "name": "python",
   "nbconvert_exporter": "python",
   "pygments_lexer": "ipython3",
   "version": "3.11.0"
  }
 },
 "nbformat": 4,
 "nbformat_minor": 2
}
