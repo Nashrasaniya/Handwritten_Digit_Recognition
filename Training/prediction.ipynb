{
 "cells": [
  {
   "cell_type": "code",
   "execution_count": 4,
   "metadata": {},
   "outputs": [
    {
     "name": "stdout",
     "output_type": "stream",
     "text": [
      "Model loaded successfully.\n",
      "\u001b[1m1/1\u001b[0m \u001b[32m━━━━━━━━━━━━━━━━━━━━\u001b[0m\u001b[37m\u001b[0m \u001b[1m0s\u001b[0m 58ms/step\n",
      "Predicted digit: 5\n"
     ]
    }
   ],
   "source": [
    "import tensorflow as tf\n",
    "import numpy as np\n",
    "\n",
    "def load_model():\n",
    "    \"\"\"Loads the trained model.\"\"\"\n",
    "    try:\n",
    "        model = tf.keras.models.load_model('model.keras')\n",
    "        print(\"Model loaded successfully.\")\n",
    "        return model\n",
    "    except:\n",
    "        print(\"Error loading model. Train it first!\")\n",
    "        return None\n",
    "\n",
    "def predict(model, img):\n",
    "    \"\"\"Predicts the digit from the given image.\"\"\"\n",
    "    img = np.array([img])\n",
    "    res = model.predict(img)\n",
    "    return str(np.argmax(res))\n",
    "\n",
    "if __name__ == \"__main__\":\n",
    "    model = load_model()\n",
    "    if model:\n",
    "        sample_image = np.zeros((28, 28))  # Example empty image\n",
    "        print(\"Predicted digit:\", predict(model, sample_image))\n"
   ]
  },
  {
   "cell_type": "code",
   "execution_count": null,
   "metadata": {},
   "outputs": [],
   "source": []
  }
 ],
 "metadata": {
  "kernelspec": {
   "display_name": "Python 3",
   "language": "python",
   "name": "python3"
  },
  "language_info": {
   "codemirror_mode": {
    "name": "ipython",
    "version": 3
   },
   "file_extension": ".py",
   "mimetype": "text/x-python",
   "name": "python",
   "nbconvert_exporter": "python",
   "pygments_lexer": "ipython3",
   "version": "3.11.0"
  }
 },
 "nbformat": 4,
 "nbformat_minor": 2
}
